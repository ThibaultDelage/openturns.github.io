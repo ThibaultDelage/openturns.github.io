{
 "cells": [
  {
   "cell_type": "markdown",
   "metadata": {},
   "source": [
    "# Sobol' sensitivity indices from chaos"
   ]
  },
  {
   "cell_type": "markdown",
   "metadata": {},
   "source": [
    "In this example we are going to compute global sensitivity indices from a functional chaos decomposition.\n",
    "\n",
    "We study the Borehole function that models water flow through a borehole:\n",
    "\n",
    "$$\\frac{2 \\pi T_u (H_u - H_l)}{\\ln{r/r_w}(1+\\frac{2 L T_u}{\\ln(r/r_w) r^2_w K_w}\\frac{T_u}{T_l})}$$\n",
    "\n",
    "With parameters:\n",
    " \n",
    "- $r_w$: radius of borehole (m)\n",
    "- $r$: radius of influence (m)\n",
    "- $T_u$: transmissivity of upper aquifer ($m^2/yr$)\n",
    "- $H_u$: potentiometric head of upper aquifer (m)\n",
    "- $T_l$: transmissivity of lower aquifer ($m^2/yr$)\n",
    "- $H_l$: potentiometric head of lower aquifer (m)\n",
    "- $L$: length of borehole (m)\n",
    "- $K_w$: hydraulic conductivity of borehole ($m/yr$)"
   ]
  },
  {
   "cell_type": "code",
   "execution_count": 2,
   "metadata": {},
   "outputs": [],
   "source": [
    "from __future__ import print_function\n",
    "import openturns as ot\n",
    "from operator import itemgetter "
   ]
  },
  {
   "cell_type": "code",
   "execution_count": 3,
   "metadata": {},
   "outputs": [],
   "source": [
    "# borehole model\n",
    "dimension = 8\n",
    "input_names = ['rw', 'r', 'Tu', 'Hu', 'Tl', 'Hl', 'L', 'Kw']\n",
    "model = ot.SymbolicFunction(input_names,\n",
    "                            ['(2*pi_*Tu*(Hu-Hl))/(ln(r/rw)*(1+(2*L*Tu)/(ln(r/rw)*rw^2*Kw)+Tu/Tl))'])\n",
    "coll = [ot.Normal(0.1, 0.0161812),\n",
    "         ot.LogNormal(7.71, 1.0056),\n",
    "         ot.Uniform(63070.0, 115600.0),\n",
    "         ot.Uniform(990.0, 1110.0),\n",
    "         ot.Uniform(63.1, 116.0),\n",
    "         ot.Uniform(700.0, 820.0),\n",
    "         ot.Uniform(1120.0, 1680.0),\n",
    "         ot.Uniform(9855.0, 12045.0)]\n",
    "distribution = ot.ComposedDistribution(coll)\n",
    "distribution.setDescription(input_names)"
   ]
  },
  {
   "cell_type": "code",
   "execution_count": 4,
   "metadata": {},
   "outputs": [],
   "source": [
    "# Freeze r, Tu, Tl from model to go faster\n",
    "selection = [1,2,4]\n",
    "complement = ot.Indices(selection).complement(dimension)\n",
    "distribution = distribution.getMarginal(complement)\n",
    "model = ot.ParametricFunction(model, selection, distribution.getMarginal(selection).getMean())\n",
    "input_names_copy = list(input_names)\n",
    "input_names = itemgetter(*complement)(input_names)\n",
    "dimension = len(complement)"
   ]
  },
  {
   "cell_type": "code",
   "execution_count": 5,
   "metadata": {},
   "outputs": [],
   "source": [
    "# design of experiment\n",
    "size = 1000\n",
    "X = distribution.getSample(size)\n",
    "Y = model(X)"
   ]
  },
  {
   "cell_type": "code",
   "execution_count": 6,
   "metadata": {},
   "outputs": [
    {
     "name": "stdout",
     "output_type": "stream",
     "text": [
      "[0.0205653]\n",
      "[7.19232e-07]\n"
     ]
    }
   ],
   "source": [
    "# create a functional chaos model\n",
    "algo = ot.FunctionalChaosAlgorithm(X, Y)\n",
    "algo.run()\n",
    "result = algo.getResult()\n",
    "print(result.getResiduals())\n",
    "print(result.getRelativeErrors())"
   ]
  },
  {
   "cell_type": "code",
   "execution_count": 7,
   "metadata": {},
   "outputs": [
    {
     "name": "stdout",
     "output_type": "stream",
     "text": [
      " input dimension: 5\n",
      " output dimension: 1\n",
      " basis size: 40\n",
      " mean: [73.9426]\n",
      " std-dev: [28.0411]\n",
      "------------------------------------------------------------\n",
      "Index   | Multi-indice                  | Part of variance  \n",
      "------------------------------------------------------------\n",
      "      1 | [1,0,0,0,0]                   | 0.655359\n",
      "      2 | [0,1,0,0,0]                   | 0.0946395\n",
      "      4 | [0,0,0,1,0]                   | 0.0930073\n",
      "      3 | [0,0,1,0,0]                   | 0.0927474\n",
      "      5 | [0,0,0,0,1]                   | 0.0226136\n",
      "------------------------------------------------------------\n",
      "\n",
      "\n",
      "------------------------------------------------------------\n",
      "Component | Sobol index            | Sobol total index      \n",
      "------------------------------------------------------------\n",
      "        0 | 0.662486               | 0.692338              \n",
      "        1 | 0.0946545              | 0.105777              \n",
      "        2 | 0.0927636              | 0.103943              \n",
      "        3 | 0.0940617              | 0.105893              \n",
      "        4 | 0.0226136              | 0.0254699             \n",
      "------------------------------------------------------------\n",
      "\n",
      "\n"
     ]
    }
   ],
   "source": [
    "# Quick summary of sensitivity analysis\n",
    "sensitivityAnalysis = ot.FunctionalChaosSobolIndices(result)\n",
    "print(sensitivityAnalysis.summary())"
   ]
  },
  {
   "cell_type": "code",
   "execution_count": 10,
   "metadata": {},
   "outputs": [
    {
     "data": {
      "image/png": "[encoded data removed]",
      "text/plain": [
       "class=Graph name=Sobol indices implementation=class=GraphImplementation name=Sobol indices title=Sobol indices xTitle=inputs yTitle=Value axes=ON grid=ON legendposition=topright legendFontSize=1 drawables=[class=Drawable name=First order implementation=class=Cloud name=First order derived from class=DrawableImplementation name=First order legend=First order data=class=Sample name=Unnamed implementation=class=SampleImplementation name=Unnamed size=5 dimension=2 data=[[1,0.662486],[2,0.0946545],[3,0.0927636],[4,0.0940617],[5,0.0226136]] color=red fillStyle=solid lineStyle=solid pointStyle=circle lineWidth=1,class=Drawable name=Total order implementation=class=Cloud name=Total order derived from class=DrawableImplementation name=Total order legend=Total order data=class=Sample name=Unnamed implementation=class=SampleImplementation name=Unnamed size=5 dimension=2 data=[[1.1,0.692338],[2.1,0.105777],[3.1,0.103943],[4.1,0.105893],[5.1,0.0254699]] color=blue fillStyle=solid lineStyle=solid pointStyle=square lineWidth=1,class=Drawable name=Unnamed implementation=class=Text name=Unnamed derived from class=DrawableImplementation name=Unnamed legend= data=class=Sample name=Unnamed implementation=class=SampleImplementation name=Unnamed size=5 dimension=2 data=[[1.2,0.677412],[2.2,0.100216],[3.2,0.0983532],[4.2,0.0999771],[5.2,0.0240418]] color=black fillStyle=solid lineStyle=solid pointStyle=plus lineWidth=1]"
      ]
     },
     "execution_count": 10,
     "metadata": {},
     "output_type": "execute_result"
    }
   ],
   "source": [
    "# draw Sobol' indices\n",
    "first_order = [sensitivityAnalysis.getSobolIndex(i) for i in range(dimension)]\n",
    "total_order = [sensitivityAnalysis.getSobolTotalIndex(i) for i in range(dimension)]\n",
    "\n",
    "graph = ot.Graph('Sobol indices', 'inputs', 'Value', True, '')\n",
    "data = ot.Sample(dimension, 2)\n",
    "for i in range(dimension):\n",
    "    data[i, 0] = i+1\n",
    "    data[i, 1] = first_order[i]\n",
    "cloud = ot.Cloud(data, \"red\", \"circle\", \"First order\")\n",
    "graph.add(cloud)\n",
    "for i in range(dimension):\n",
    "    data[i, 0] = i+1+0.1\n",
    "    data[i, 1] = total_order[i]\n",
    "cloud = ot.Cloud(data, \"blue\", \"square\", \"Total order\")\n",
    "graph.add(cloud)\n",
    "for i in range(dimension):\n",
    "    data[i, 0] = i+1+0.2\n",
    "    data[i, 1] = 0.5*(first_order[i]+total_order[i])\n",
    "text = ot.Text(data, input_names, 'right')\n",
    "text.setColor('black')\n",
    "graph.add(text)\n",
    "graph.setLegendPosition(\"topright\")\n",
    "graph"
   ]
  },
  {
   "cell_type": "code",
   "execution_count": 9,
   "metadata": {},
   "outputs": [
    {
     "name": "stdout",
     "output_type": "stream",
     "text": [
      "Hu & rw : 0.009536222712892008\n",
      "Hl & rw : 0.009530629479565667\n",
      "Hl & Hu : 1.3936259801171157e-05\n",
      "L & rw : 0.008923015390024751\n",
      "L & Hu : 0.0012697543282222151\n",
      "L & Hl : 0.0012905102200038215\n",
      "Kw & rw : 0.0018622904639265824\n",
      "Kw & Hu : 0.000302490552292122\n",
      "Kw & Hl : 0.0003439993123678421\n",
      "Kw & L : 0.00034753666470284497\n"
     ]
    }
   ],
   "source": [
    "# We saw that total order indices are close to first order,\n",
    "# so the higher order indices must be all quite close to 0\n",
    "for i in range(dimension):\n",
    "    for j in range(i):\n",
    "        print(input_names[i] + ' & '+ input_names[j], \":\", sensitivityAnalysis.getSobolIndex([i, j]))"
   ]
  }
 ],
 "metadata": {
  "kernelspec": {
   "display_name": "Python 3",
   "language": "python",
   "name": "python3"
  },
  "language_info": {
   "codemirror_mode": {
    "name": "ipython",
    "version": 3
   },
   "file_extension": ".py",
   "mimetype": "text/x-python",
   "name": "python",
   "nbconvert_exporter": "python",
   "pygments_lexer": "ipython3",
   "version": "3.6.5"
  }
 },
 "nbformat": 4,
 "nbformat_minor": 1
}
