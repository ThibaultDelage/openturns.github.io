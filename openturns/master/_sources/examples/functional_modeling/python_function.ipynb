{
 "cells": [
  {
   "cell_type": "markdown",
   "metadata": {},
   "source": [
    "# Create a Python function"
   ]
  },
  {
   "cell_type": "markdown",
   "metadata": {},
   "source": [
    "In this basic example we are going to create a Function object (ie usable in the OpenTURNS context) from a pure Python function.\n",
    "\n",
    "The pure Python function to wrap must accept a sequence of floats and return a sequence of float.\n",
    "\n",
    "$$ f(x) = [x_0+x_1+x_2, (x_1-1)*e^{x_0} * x_2]$$"
   ]
  },
  {
   "cell_type": "code",
   "execution_count": 6,
   "metadata": {},
   "outputs": [],
   "source": [
    "from __future__ import print_function\n",
    "import openturns as ot\n",
    "import math as m"
   ]
  },
  {
   "cell_type": "code",
   "execution_count": null,
   "metadata": {
    "collapsed": true
   },
   "outputs": [],
   "source": [
    "# define a pure Python function from R^3 to R^2\n",
    "def regularFunc(X):\n",
    "    x0, x1, x2 = X\n",
    "    y0 = x0 + x1 + x2\n",
    "    y1 = (x1 - 1.0) * m.exp(x0) * x2\n",
    "    return [y0, y1]"
   ]
  },
  {
   "cell_type": "code",
   "execution_count": 9,
   "metadata": {},
   "outputs": [
    {
     "name": "stdout",
     "output_type": "stream",
     "text": [
      "x= [1.0, 2.0, 3.0] f(x)= [6,8.15485]\n",
      "class=PythonEvaluation name=OpenTURNSPythonFunction\n"
     ]
    }
   ],
   "source": [
    "# create a Function object from a regular Python function\n",
    "function = ot.PythonFunction(3, 2, regularFunc)"
   ]
  },
  {
   "cell_type": "code",
   "execution_count": 11,
   "metadata": {},
   "outputs": [
    {
     "name": "stdout",
     "output_type": "stream",
     "text": [
      "x= [1.0, 2.0, 3.0] f(x)= [6,8.15485]\n"
     ]
    }
   ],
   "source": [
    "# evaluate the function\n",
    "x = [1.0, 2.0, 3.0]\n",
    "print('x=', x, 'f(x)=', function(x))"
   ]
  },
  {
   "cell_type": "code",
   "execution_count": 10,
   "metadata": {},
   "outputs": [
    {
     "data": {
      "text/html": [
       "<p>[[ 1       8.15485 ]<br>\n",
       " [ 1       8.15485 ]<br>\n",
       " [ 1       2.71828 ]]<br>\n",
       "</p>"
      ],
      "text/plain": [
       "class=Matrix implementation=class=MatrixImplementation name=Unnamed rows=3 columns=2 values=[1,1,1,8.15485,8.15485,2.71828]"
      ]
     },
     "execution_count": 10,
     "metadata": {},
     "output_type": "execute_result"
    }
   ],
   "source": [
    "# now we can use the Function object services such as the gradient\n",
    "function.gradient(x)"
   ]
  }
 ],
 "metadata": {
  "kernelspec": {
   "display_name": "Python 3",
   "language": "python",
   "name": "python3"
  },
  "language_info": {
   "codemirror_mode": {
    "name": "ipython",
    "version": 3
   },
   "file_extension": ".py",
   "mimetype": "text/x-python",
   "name": "python",
   "nbconvert_exporter": "python",
   "pygments_lexer": "ipython3",
   "version": "3.5.2"
  }
 },
 "nbformat": 4,
 "nbformat_minor": 1
}
