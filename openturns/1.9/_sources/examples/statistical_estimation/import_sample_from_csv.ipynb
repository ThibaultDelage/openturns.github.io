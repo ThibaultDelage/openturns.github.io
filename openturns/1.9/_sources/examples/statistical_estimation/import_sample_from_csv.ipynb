{
 "cells": [
  {
   "cell_type": "markdown",
   "metadata": {},
   "source": [
    "# Import a sample from a CSV file"
   ]
  },
  {
   "cell_type": "markdown",
   "metadata": {},
   "source": [
    "In this basic example we are going to import a CSV file"
   ]
  },
  {
   "cell_type": "code",
   "execution_count": 15,
   "metadata": {
    "collapsed": false
   },
   "outputs": [],
   "source": [
    "from __future__ import print_function\n",
    "import openturns as ot\n",
    "\n",
    "# write a csv file by hand\n",
    "with open('sample.csv', 'w') as f:\n",
    "    f.write('0.1, 0.2, 0.3\\n')\n",
    "    f.write('0.7, 8.2, 4.3\\n')"
   ]
  },
  {
   "cell_type": "code",
   "execution_count": 16,
   "metadata": {
    "collapsed": false
   },
   "outputs": [
    {
     "name": "stdout",
     "output_type": "stream",
     "text": [
      "    [ data_0 data_1 data_2 ]\n",
      "0 : [ 0.1    0.2    0.3    ]\n",
      "1 : [ 0.7    8.2    4.3    ]\n"
     ]
    }
   ],
   "source": [
    "# default separator is ';'\n",
    "sample = ot.Sample.ImportFromCSVFile('sample.csv', ',')\n",
    "print(sample)"
   ]
  },
  {
   "cell_type": "code",
   "execution_count": null,
   "metadata": {
    "collapsed": true
   },
   "outputs": [],
   "source": []
  }
 ],
 "metadata": {
  "kernelspec": {
   "display_name": "Python 3",
   "language": "python",
   "name": "python3"
  },
  "language_info": {
   "codemirror_mode": {
    "name": "ipython",
    "version": 3
   },
   "file_extension": ".py",
   "mimetype": "text/x-python",
   "name": "python",
   "nbconvert_exporter": "python",
   "pygments_lexer": "ipython3",
   "version": "3.5.2"
  }
 },
 "nbformat": 4,
 "nbformat_minor": 0
}
